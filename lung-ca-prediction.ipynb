{
 "cells": [
  {
   "cell_type": "markdown",
   "id": "44465699",
   "metadata": {},
   "source": [
    "## Lung Cancer Pre-Screening Risk Prediction \n",
    "This application classifies whether or not a patient is high risk for lung cancer based on their clinical parameters given in the following survey.\n",
    "This survey is intended for adults aged 18 or older."
   ]
  },
  {
   "cell_type": "code",
   "execution_count": 1,
   "id": "20204f4f",
   "metadata": {},
   "outputs": [],
   "source": [
    "# Tools\n",
    "\n",
    "# ipywidgets for user interaction\n",
    "import ipywidgets as widgets\n",
    "\n",
    "# Regular EDA (exploratory data analysis) and plotting libraries\n",
    "import pandas as pd\n",
    "import numpy as np\n",
    "import matplotlib.pyplot as plt\n",
    "import seaborn as sns\n",
    "\n",
    "# Allow plots to appear inside the notebook\n",
    "%matplotlib inline\n",
    "\n",
    "# Scikit-Learn Classification Models\n",
    "from sklearn.linear_model import LogisticRegression\n",
    "from sklearn.neighbors import KNeighborsClassifier\n",
    "from sklearn.ensemble import RandomForestClassifier\n",
    "# Model Evaluations\n",
    "from sklearn.model_selection import train_test_split, cross_val_score\n",
    "from sklearn.model_selection import RandomizedSearchCV, GridSearchCV\n",
    "from sklearn.metrics import confusion_matrix, classification_report\n",
    "from sklearn.metrics import precision_score, recall_score, f1_score\n",
    "from sklearn.metrics import plot_roc_curve\n",
    "\n",
    "# To save model using pickle\n",
    "import pickle\n",
    "\n",
    "# Load data into dataframe\n",
    "df = pd.read_csv(\"survey_lung_cancer.csv\")\n",
    "\n",
    "# Load logistic regression model\n",
    "loaded_model = pickle.load(open(\"logistic_regression_model.pkl\", \"rb\"))"
   ]
  },
  {
   "cell_type": "code",
   "execution_count": 2,
   "id": "e3d0c1ae",
   "metadata": {},
   "outputs": [],
   "source": [
    "# Load data into dataframe\n",
    "df = pd.read_csv(\"survey_lung_cancer.csv\")\n"
   ]
  },
  {
   "cell_type": "code",
   "execution_count": 3,
   "id": "77644f78",
   "metadata": {},
   "outputs": [],
   "source": [
    "# GUI elements.\n",
    "\n",
    "# Gender dropdown\n",
    "gender = widgets.Dropdown(\n",
    "    options=[('Male', 2), ('Female', 1)],\n",
    "    value=2,\n",
    "    description='Gender:',\n",
    ")\n",
    "\n",
    "# Age input\n",
    "age = widgets.BoundedIntText(\n",
    "    min=18,\n",
    "    max=110,\n",
    "    step=1,\n",
    "    description='Age:',\n",
    "    disabled=False\n",
    ")\n",
    "\n",
    "# Smoking history checkbox\n",
    "smoking_hx = widgets.Checkbox(\n",
    "    value=False,\n",
    "    description='Smoking',\n",
    "    disabled=False,\n",
    "    indent=False\n",
    ")\n",
    "def sh(smoking_hx):\n",
    "    if smoking_hx.value:\n",
    "        smoking = 2\n",
    "    else:\n",
    "        smoking = 1\n",
    "    return smoking\n",
    "\n",
    "# Peer pressure checkbox\n",
    "peer_pressure = widgets.Checkbox(\n",
    "    value=False,\n",
    "    description='Peer-pressure to continue smoking',\n",
    "    disabled=False,\n",
    "    indent=False\n",
    ")\n",
    "def pp(peer_pressure):\n",
    "    if peer_pressure.value:\n",
    "        peer_press = 2\n",
    "    else:\n",
    "        peer_press = 1\n",
    "    return peer_press\n",
    "\n",
    "# Yellow finger checkbox\n",
    "yf = widgets.Checkbox(\n",
    "    value=False,\n",
    "    description='Yellowing of the fingers',\n",
    "    disabled=False,\n",
    "    indent=False\n",
    ")\n",
    "def yell_fin(yf):\n",
    "    if yf.value:\n",
    "        yellow_fingers = 2\n",
    "    else:\n",
    "        yellow_fingers = 1\n",
    "    return yellow_fingers\n",
    "\n",
    "# Anxiety checkbox\n",
    "anxiety_checkbox = widgets.Checkbox(\n",
    "    value=False,\n",
    "    description='Anxiety',\n",
    "    disabled=False,\n",
    "    indent=False\n",
    ")\n",
    "def anxiety_dx(anxiety_checkbox):\n",
    "    if anxiety_checkbox.value:\n",
    "        anxiety = 2\n",
    "    else:\n",
    "        anxiety = 1\n",
    "    return anxiety\n",
    "\n",
    "# Chronic disease checkbox\n",
    "chronic_disease = widgets.Checkbox(\n",
    "    value=False,\n",
    "    description='Chronic disease',\n",
    "    disabled=False,\n",
    "    indent=False\n",
    ")\n",
    "def chronic_dx(chronic_disease):\n",
    "    if chronic_disease.value:\n",
    "        cd = 2\n",
    "    else:\n",
    "        cd = 1\n",
    "    return cd\n",
    "\n",
    "# Fatigue checkbox\n",
    "fatigue = widgets.Checkbox(\n",
    "    value=False,\n",
    "    description='Fatigue',\n",
    "    disabled=False,\n",
    "    indent=False\n",
    ")\n",
    "def noticeable_fatigue(fatigue):\n",
    "    if fatigue.value:\n",
    "        f = 2\n",
    "    else:\n",
    "        f = 1\n",
    "    return f\n",
    "\n",
    "# Allergy checkbox\n",
    "allergy = widgets.Checkbox(\n",
    "    value=False,\n",
    "    description='Allergies',\n",
    "    disabled=False,\n",
    "    indent=False\n",
    ")\n",
    "def allergy_dx(allergy):\n",
    "    if allergy.value:\n",
    "        allergies = 2\n",
    "    else:\n",
    "        allergies = 1\n",
    "    return allergies\n",
    "\n",
    "# Wheezing checkbox\n",
    "wheezing = widgets.Checkbox(\n",
    "    value=False,\n",
    "    description='Wheezing',\n",
    "    disabled=False,\n",
    "    indent=False\n",
    ")\n",
    "def wheezing_present(wheezing):\n",
    "    if wheezing.value:\n",
    "        w =2\n",
    "    else:\n",
    "        w = 1\n",
    "    return w\n",
    "\n",
    "# Alcohol consumption checkbox\n",
    "alcohol_consumption = widgets.Checkbox(\n",
    "    value=False,\n",
    "    description='Alcohol Consumption',\n",
    "    disabled=False,\n",
    "    indent=False\n",
    ")\n",
    "def alcohol_use(alcohol_consumption):\n",
    "    if alcohol_consumption.value:\n",
    "        ac = 2\n",
    "    else:\n",
    "        ac = 1\n",
    "    return ac\n",
    "\n",
    "# Chronic cough checkbox\n",
    "coughing = widgets.Checkbox(\n",
    "    value=False,\n",
    "    description='Chronic cough',\n",
    "    disabled=False,\n",
    "    indent=False\n",
    ")\n",
    "def chronic_cough(coughing):\n",
    "    if coughing.value:\n",
    "        cough = 2\n",
    "    else:\n",
    "        cough = 1\n",
    "    return cough\n",
    "\n",
    "# Shortness of breath checkbox\n",
    "shortness_of_breath = widgets.Checkbox(\n",
    "    value=False,\n",
    "    description='Shortness of breath',\n",
    "    disabled=False,\n",
    "    indent=False\n",
    ")\n",
    "def sob_present(shortness_of_breath):\n",
    "    if shortness_of_breath.value:\n",
    "        sob = 2\n",
    "    else:\n",
    "        sob = 1\n",
    "    return sob\n",
    "\n",
    "# Swallowing difficulty checkbox\n",
    "swallowing_difficulty = widgets.Checkbox(\n",
    "    value=False,\n",
    "    description='Swallowing difficulty',\n",
    "    disabled=False,\n",
    "    indent=False\n",
    ")\n",
    "def swall_diff(swallowing_difficulty):\n",
    "    if swallowing_difficulty.value:\n",
    "        sd = 2\n",
    "    else:\n",
    "        sd = 1\n",
    "    return sd\n",
    "    \n",
    "# Chest pain checkbox\n",
    "chest_pain = widgets.Checkbox(\n",
    "    value=False,\n",
    "    description='Chest pain',\n",
    "    disabled=False,\n",
    "    indent=False\n",
    ")\n",
    "def c_pain(chest_pain):\n",
    "    if chest_pain.value:\n",
    "        cp = 2\n",
    "    else:\n",
    "        cp = 1\n",
    "    return cp\n",
    "\n",
    "out = widgets.Output(layout={'border': '1px solid black'})\n",
    "\n",
    "# Gender/Age Hbox\n",
    "ga = [gender, age]\n",
    "ga_box = widgets.HBox(ga)\n",
    "\n",
    "# Checkbox Gridbox\n",
    "cb = [smoking_hx, peer_pressure, yf, anxiety_checkbox, chronic_disease, fatigue, allergy, wheezing, alcohol_consumption, coughing, shortness_of_breath, swallowing_difficulty, chest_pain]\n",
    "cb_box = widgets.GridBox(cb, layout=widgets.Layout(grid_template_columns=\"repeat(2, 300px)\"))\n",
    "\n",
    "\n",
    "\n",
    "\n",
    "# Predict button\n",
    "predict_button = widgets.Button(\n",
    "    description='Predict',\n",
    "    disabled=False,\n",
    "    button_style='info',\n",
    "    )\n",
    "def predict_click(b):\n",
    "    out.clear_output()\n",
    "    # Load logistic regression model\n",
    "    loaded_model = pickle.load(open(\"logistic_regression_model.pkl\", \"rb\"))\n",
    "    \n",
    "    smoking = sh(smoking_hx)\n",
    "    yellow_fingers = yell_fin(yf)\n",
    "    anxiety = anxiety_dx(anxiety_checkbox)\n",
    "    peer_press =pp(peer_pressure)\n",
    "    cd = chronic_dx(chronic_disease)\n",
    "    f = noticeable_fatigue(fatigue)\n",
    "    allergies = allergy_dx(allergy)\n",
    "    w = wheezing_present(wheezing)\n",
    "    ac = alcohol_use(alcohol_consumption)\n",
    "    cough = chronic_cough(coughing)\n",
    "    sob = sob_present(shortness_of_breath)\n",
    "    sd = swall_diff(swallowing_difficulty)\n",
    "    cp = c_pain(chest_pain)\n",
    "    \n",
    "    # Create dataframe from user's selections \n",
    "    df3 = pd.DataFrame({'GENDER': [gender.value],'AGE': [age.value], 'SMOKING': [smoking], 'YELLOW_FINGERS': [yellow_fingers], 'ANXIETY': [anxiety], \n",
    "                        'PEER_PRESSURE': [peer_press], 'CHRONIC_DISEASE': [cd], 'FATIGUE ': [f], 'ALLERGY ': [allergies], 'WHEEZING': [w], \n",
    "                        'ALCOHOL_CONSUMING': [ac], 'COUGHING': [cough], 'SHORTNESS_OF_BREATH': [sob], 'SWALLOWING_DIFFICULTY': [sd], \n",
    "                        'CHEST_PAIN': [cp] })\n",
    "    loaded_model_prediction = loaded_model.predict(df3)\n",
    "    with out:\n",
    "        # Output risk prediction\n",
    "        if loaded_model_prediction == 1:\n",
    "            print(\"High Risk\")\n",
    "        if loaded_model_prediction == 0:\n",
    "            print(\"Low Risk\")\n",
    "\n",
    "predict_button.on_click(predict_click)\n",
    "\n",
    "\n",
    "# Buttons\n",
    "# buttons = [predict_button, other_button]\n",
    "# HBox containing buttons\n",
    "# button_box = widgets.HBox(buttons)\n"
   ]
  },
  {
   "cell_type": "code",
   "execution_count": 4,
   "id": "6cea9c90",
   "metadata": {},
   "outputs": [
    {
     "data": {
      "application/vnd.jupyter.widget-view+json": {
       "model_id": "f395140b85b94e4eb5d318164951a339",
       "version_major": 2,
       "version_minor": 0
      },
      "text/plain": [
       "VBox(children=(HBox(children=(Dropdown(description='Gender:', options=(('Male', 2), ('Female', 1)), value=2), …"
      ]
     },
     "metadata": {},
     "output_type": "display_data"
    }
   ],
   "source": [
    "ui_parts = [ga_box, cb_box, predict_button, out]\n",
    "interface = widgets.VBox(ui_parts)\n",
    "interface"
   ]
  },
  {
   "cell_type": "markdown",
   "id": "1f749b7e",
   "metadata": {},
   "source": [
    "## Data\n",
    "The data used for this project is licensed for public domain use and is available on Kaggle. \n",
    "The html link provided will take you to the dataset listing on Kaggle.\n",
    "https://www.kaggle.com/mysarahmadbhat/lung-cancer\n",
    "    "
   ]
  },
  {
   "cell_type": "markdown",
   "id": "8f3779cd",
   "metadata": {},
   "source": [
    "## Evaluation\n",
    "\n",
    "Prediction accuracy of 90% or greater at predicting whether or not a patient is high risk for lung cancer constitutes this project's success.\n",
    "Please see below for model decision information, evaluation, and cross-validation information.\n"
   ]
  },
  {
   "cell_type": "markdown",
   "id": "9decf3c1",
   "metadata": {},
   "source": [
    "\n"
   ]
  },
  {
   "cell_type": "code",
   "execution_count": 5,
   "id": "613dd5ac",
   "metadata": {},
   "outputs": [],
   "source": [
    "# Split data into X and y\n",
    "X = df.drop(\"target\", axis=1)\n",
    "y = df[\"target\"]"
   ]
  },
  {
   "cell_type": "code",
   "execution_count": 6,
   "id": "b9671a2b",
   "metadata": {},
   "outputs": [],
   "source": [
    "# Split data into train and test sets\n",
    "# NumPy random seed used so that results can be reproduced\n",
    "np.random.seed(42)\n",
    "\n",
    "#Split into train & test set\n",
    "X_train, X_test, y_train, y_test = train_test_split(X, y, test_size=0.2)"
   ]
  },
  {
   "cell_type": "code",
   "execution_count": 7,
   "id": "b93668dd",
   "metadata": {},
   "outputs": [],
   "source": [
    "# Build a machine learning model to find the patterns on a training set\n",
    "# Model will be tested on the test set\n",
    "\n",
    "# Put models in a dictionary\n",
    "models = {\"Logistic Regression\": LogisticRegression(),\n",
    "         \"KNN\": KNeighborsClassifier(),\n",
    "         \"Random Forest\": RandomForestClassifier()}\n",
    "\n",
    "# Create a function to fit and score models\n",
    "def fit_and_score(models, X_train, X_test, y_train, y_test):\n",
    "    \"\"\"\n",
    "    Fits and evaluates given machine learning models.\n",
    "    models : a dict of different Scikit-Learn machine learning models\n",
    "    X_train : training data (no labels)\n",
    "    X_test : testing data (no labels)\n",
    "    y_train : training labels\n",
    "    y_test : test labels\n",
    "    \"\"\"\n",
    "    \n",
    "    # Set random seed to make sure results are reproducible\n",
    "    np.random.seed(42)\n",
    "    \n",
    "    # Make a dictionary to keep model scores\n",
    "    model_scores = {}\n",
    "    \n",
    "    # Loop through models\n",
    "    for name, model in models.items():\n",
    "        # Fit the model to the data\n",
    "        model.fit(X_train, y_train)\n",
    "        # Evaluate the model and append its score to model_scores\n",
    "        model_scores[name] = model.score(X_test, y_test)\n",
    "    return model_scores"
   ]
  },
  {
   "cell_type": "code",
   "execution_count": 8,
   "id": "463efbd5",
   "metadata": {},
   "outputs": [
    {
     "name": "stderr",
     "output_type": "stream",
     "text": [
      "C:\\ProgramData\\Miniconda3\\lib\\site-packages\\sklearn\\linear_model\\_logistic.py:814: ConvergenceWarning: lbfgs failed to converge (status=1):\n",
      "STOP: TOTAL NO. of ITERATIONS REACHED LIMIT.\n",
      "\n",
      "Increase the number of iterations (max_iter) or scale the data as shown in:\n",
      "    https://scikit-learn.org/stable/modules/preprocessing.html\n",
      "Please also refer to the documentation for alternative solver options:\n",
      "    https://scikit-learn.org/stable/modules/linear_model.html#logistic-regression\n",
      "  n_iter_i = _check_optimize_result(\n"
     ]
    }
   ],
   "source": [
    "model_scores = fit_and_score(models=models,\n",
    "                            X_train=X_train,\n",
    "                            X_test=X_test,\n",
    "                            y_train=y_train,\n",
    "                            y_test=y_test)"
   ]
  },
  {
   "cell_type": "markdown",
   "id": "87967aa7",
   "metadata": {},
   "source": [
    "## Model Comparison\n",
    "The bar graph below illustrates the accuracy of three classification algorithms on the data provided in the information above.\n",
    "Logistic regression was chosen due to receiving the highest accuracy score."
   ]
  },
  {
   "cell_type": "code",
   "execution_count": 9,
   "id": "ea32b2f3",
   "metadata": {},
   "outputs": [
    {
     "data": {
      "image/png": "[encoded data removed]",
      "text/plain": [
       "<Figure size 432x288 with 1 Axes>"
      ]
     },
     "metadata": {
      "needs_background": "light"
     },
     "output_type": "display_data"
    }
   ],
   "source": [
    "model_compare = pd.DataFrame(model_scores, index=[\"accuracy\"])\n",
    "plot =model_compare.plot.bar(colormap=\"Set3\");"
   ]
  },
  {
   "cell_type": "code",
   "execution_count": 10,
   "id": "b3b75e67",
   "metadata": {},
   "outputs": [],
   "source": [
    "### Hyperparameter tuning with RandomizedSearchCV()\n",
    "\n",
    "# The logistic regression model was tuned using RandomizedSearchCV().\n",
    "\n"
   ]
  },
  {
   "cell_type": "code",
   "execution_count": 11,
   "id": "0053698d",
   "metadata": {},
   "outputs": [],
   "source": [
    "# Create a hyperparameter grid for LogisticRegression\n",
    "log_reg_grid = {\"C\": np.logspace(-4, 4, 20),\n",
    "               \"solver\":[\"liblinear\"]}\n",
    "\n",
    "# Create a hyperparameter grid for RandomForestClassifier\n",
    "rf_grid = {\"n_estimators\": np.arange(10, 1000, 50),\n",
    "          \"max_depth\": [None, 3, 5, 10],\n",
    "          \"min_samples_split\":np.arange(2, 20, 2),\n",
    "          \"min_samples_leaf\": np.arange(1, 20, 2)}"
   ]
  },
  {
   "cell_type": "code",
   "execution_count": 12,
   "id": "97deefe8",
   "metadata": {},
   "outputs": [],
   "source": [
    "\n",
    "\n",
    "# Tune each of our models with RandomizedSearchCV using the above hyperparameter grids\n",
    "np.random.seed(42)\n",
    "\n",
    "# Setup random hyperparameter search for LogisticRegression\n",
    "rs_log_reg = RandomizedSearchCV(LogisticRegression(),\n",
    "                                param_distributions=log_reg_grid,\n",
    "                                cv=5,\n",
    "                                n_iter=20,\n",
    "                                )\n",
    "# Fit random hyperparameter search model for LogisticRegression\n",
    "rs_log_reg.fit(X_train, y_train)\n",
    "{\n",
    "    \"tags\": [\n",
    "        \"hide-output\"\n",
    "    ]\n",
    "};\n"
   ]
  },
  {
   "cell_type": "code",
   "execution_count": null,
   "id": "17264b25",
   "metadata": {},
   "outputs": [],
   "source": []
  },
  {
   "cell_type": "code",
   "execution_count": 13,
   "id": "a004abb8",
   "metadata": {},
   "outputs": [],
   "source": [
    "# rs_log_reg.best_params_"
   ]
  },
  {
   "cell_type": "code",
   "execution_count": 14,
   "id": "f03dc9d4",
   "metadata": {},
   "outputs": [],
   "source": [
    "# rs_log_reg.score(X_test, y_test)"
   ]
  },
  {
   "cell_type": "code",
   "execution_count": 15,
   "id": "03073645",
   "metadata": {},
   "outputs": [],
   "source": [
    "# Tune RandomForestClassifier\n",
    "\n",
    "# Tune each of our models with RandomizedSearchCV using the above hyperparameter grids\n",
    "np.random.seed(42)\n",
    "\n",
    "# Setup random hyperparameter search for RandomForestClassifier\n",
    "rs_rf = RandomizedSearchCV(RandomForestClassifier(),\n",
    "                                param_distributions=rf_grid,\n",
    "                                cv=5, \n",
    "                                n_iter=20,\n",
    "                                )\n",
    "# Fit random hyperparameter search model for RandomForestClassifier\n",
    "rs_rf.fit(X_train, y_train)\n",
    "{\n",
    "    \"tags\": [\n",
    "        \"hide-output\"\n",
    "    ]\n",
    "};\n"
   ]
  },
  {
   "cell_type": "code",
   "execution_count": 16,
   "id": "5ee6997d",
   "metadata": {},
   "outputs": [],
   "source": [
    "# Evaluate the randomized search RandomForestClassifier model\n",
    "# rs_rf.score(X_test, y_test)"
   ]
  },
  {
   "cell_type": "code",
   "execution_count": 17,
   "id": "cf06630f",
   "metadata": {},
   "outputs": [],
   "source": [
    "# Create a hyperparameter grid for LogisticRegression\n",
    "log_reg_grid = {\"C\": np.logspace(-4, 4, 30),\n",
    "                \"solver\":[\"liblinear\"]}\n",
    "\n",
    "# Setup grid hyperparameter search for LogisticRegression\n",
    "gs_log_reg = GridSearchCV(LogisticRegression(),\n",
    "                          param_grid=log_reg_grid,\n",
    "                          cv=5,\n",
    "                          )\n",
    "\n",
    "# Fit grid hyperparameter search model\n",
    "gs_log_reg.fit(X_train, y_train);\n"
   ]
  },
  {
   "cell_type": "code",
   "execution_count": 18,
   "id": "c3548255",
   "metadata": {},
   "outputs": [],
   "source": [
    "# Check the best hyperparameters\n",
    "# gs_log_reg.best_params_"
   ]
  },
  {
   "cell_type": "code",
   "execution_count": 19,
   "id": "e8f48055",
   "metadata": {},
   "outputs": [],
   "source": [
    "# gs_log_reg.score(X_test, y_test)"
   ]
  },
  {
   "cell_type": "markdown",
   "id": "214e5aa3",
   "metadata": {},
   "source": [
    "## Evaluating Tuned Machine Learning Classifier, Beyond Accuracy\n",
    "* ROC Curve\n",
    "* Confusion matrix\n",
    "* Classification report\n",
    "* Precision\n",
    "* Recall\n",
    "* F1-score"
   ]
  },
  {
   "cell_type": "code",
   "execution_count": 20,
   "id": "aa100904",
   "metadata": {},
   "outputs": [],
   "source": [
    "# Make predictions with tuned model\n",
    "y_preds = gs_log_reg.predict(X_test)"
   ]
  },
  {
   "cell_type": "markdown",
   "id": "79ff9bd8",
   "metadata": {},
   "source": [
    "## ROC Curve"
   ]
  },
  {
   "cell_type": "code",
   "execution_count": 21,
   "id": "80b5f937",
   "metadata": {},
   "outputs": [
    {
     "name": "stderr",
     "output_type": "stream",
     "text": [
      "C:\\ProgramData\\Miniconda3\\lib\\site-packages\\sklearn\\utils\\deprecation.py:87: FutureWarning: Function plot_roc_curve is deprecated; Function :func:`plot_roc_curve` is deprecated in 1.0 and will be removed in 1.2. Use one of the class methods: :meth:`sklearn.metric.RocCurveDisplay.from_predictions` or :meth:`sklearn.metric.RocCurveDisplay.from_estimator`.\n",
      "  warnings.warn(msg, category=FutureWarning)\n"
     ]
    },
    {
     "data": {
      "image/png": "[encoded data removed]",
      "text/plain": [
       "<Figure size 432x288 with 1 Axes>"
      ]
     },
     "metadata": {
      "needs_background": "light"
     },
     "output_type": "display_data"
    }
   ],
   "source": [
    "# Plot ROC curve and calculate AUC metric\n",
    "plot_roc_curve(gs_log_reg, X_test, y_test);"
   ]
  },
  {
   "cell_type": "markdown",
   "id": "ae6d7a49",
   "metadata": {},
   "source": [
    "## Confusion Matrix\n",
    "The below confusion matrix uses a heatmap to illustrate the algorithm's accuracy.\n",
    "One can see there was only one false positive and one false negative predicted when the algorithm was deployed on the test data provided.\n"
   ]
  },
  {
   "cell_type": "code",
   "execution_count": 22,
   "id": "af100b68",
   "metadata": {},
   "outputs": [
    {
     "data": {
      "image/png": "[encoded data removed]",
      "text/plain": [
       "<Figure size 216x216 with 1 Axes>"
      ]
     },
     "metadata": {},
     "output_type": "display_data"
    }
   ],
   "source": [
    "sns.set(font_scale=1.5)\n",
    "\n",
    "def plot_conf_mat(y_test, y_preds):\n",
    "    \"\"\"\n",
    "    Plots a nice looking confusion matrix using Seaborn's heatmap()\n",
    "    \"\"\"\n",
    "    fig, ax = plt.subplots(figsize=(3, 3))\n",
    "    ax = sns.heatmap(confusion_matrix(y_test, y_preds),\n",
    "                    annot=True,\n",
    "                     cmap=\"Blues\",\n",
    "                    cbar=False)\n",
    "    plt.xlabel(\"Predicted label\")\n",
    "    plt.ylabel(\"True label\")\n",
    "\n",
    "plot_conf_mat(y_test, y_preds)"
   ]
  },
  {
   "cell_type": "markdown",
   "id": "e7904b15",
   "metadata": {},
   "source": [
    "## Classification Report, Cross-validated Precision, Recall, and Fl-score"
   ]
  },
  {
   "cell_type": "markdown",
   "id": "43da0432",
   "metadata": {},
   "source": [
    "### Cross-validation\n",
    "\n",
    "Precision, recall and f1-scores of the model using cross-validation."
   ]
  },
  {
   "cell_type": "code",
   "execution_count": 23,
   "id": "6cf3d3be",
   "metadata": {},
   "outputs": [],
   "source": [
    "# Check best hyperparameters\n",
    "# gs_log_reg.best_params_"
   ]
  },
  {
   "cell_type": "code",
   "execution_count": 24,
   "id": "5005771f",
   "metadata": {},
   "outputs": [],
   "source": [
    "# Create a new classifier with best parameters\n",
    "clf = LogisticRegression(C=417.53189365604004,\n",
    "                        solver=\"liblinear\")"
   ]
  },
  {
   "cell_type": "code",
   "execution_count": 25,
   "id": "6a418002",
   "metadata": {},
   "outputs": [],
   "source": [
    "# Cross-validated accuracy\n",
    "cv_acc = cross_val_score(clf,\n",
    "                        X,\n",
    "                        y,\n",
    "                        cv=5,\n",
    "                        scoring=\"accuracy\")\n",
    "# Save mean cross-validated accuracy\n",
    "cv_acc = np.mean(cv_acc) \n",
    "# cv_acc"
   ]
  },
  {
   "cell_type": "code",
   "execution_count": 26,
   "id": "1eef8172",
   "metadata": {},
   "outputs": [],
   "source": [
    "# Cross-validated precision\n",
    "cv_precision = cross_val_score(clf,\n",
    "                        X,\n",
    "                        y,\n",
    "                        cv=5,\n",
    "                        scoring=\"precision\")\n",
    "# Save mean cross-validated precision\n",
    "cv_precision = np.mean(cv_precision)\n",
    "# cv_precision"
   ]
  },
  {
   "cell_type": "code",
   "execution_count": 27,
   "id": "de619154",
   "metadata": {},
   "outputs": [],
   "source": [
    "# Cross-validated recall\n",
    "cv_recall = cross_val_score(clf,\n",
    "                        X,\n",
    "                        y,\n",
    "                        cv=5,\n",
    "                        scoring=\"recall\")\n",
    "# Save mean cross-validated recall\n",
    "cv_recall = np.mean(cv_recall)\n",
    "# cv_recall"
   ]
  },
  {
   "cell_type": "code",
   "execution_count": 28,
   "id": "47f892e8",
   "metadata": {},
   "outputs": [],
   "source": [
    "# Cross-validated f1-score\n",
    "cv_f1 = cross_val_score(clf,\n",
    "                        X,\n",
    "                        y,\n",
    "                        cv=5,\n",
    "                        scoring=\"f1\")\n",
    "# Save mean cross-validated f1 \n",
    "cv_f1 = np.mean(cv_f1)\n",
    "# cv_f1"
   ]
  },
  {
   "cell_type": "code",
   "execution_count": 29,
   "id": "86f30434",
   "metadata": {},
   "outputs": [
    {
     "data": {
      "image/png": "[encoded data removed]",
      "text/plain": [
       "<Figure size 432x288 with 1 Axes>"
      ]
     },
     "metadata": {},
     "output_type": "display_data"
    }
   ],
   "source": [
    "# Visualize our cross-validated metrics\n",
    "cv_metrics = pd.DataFrame({\"Accuracy\": cv_acc,\n",
    "                          \"Precision\": cv_precision,\n",
    "                          \"Recall\": cv_recall,\n",
    "                          \"F1\": cv_f1},\n",
    "                         index=[0])\n",
    "cv_metrics.T.plot.bar(title=\"Cross-validated classification metrics\",\n",
    "                      color=\"lightblue\",\n",
    "                     legend=False);\n"
   ]
  },
  {
   "cell_type": "code",
   "execution_count": null,
   "id": "71ca3662",
   "metadata": {},
   "outputs": [],
   "source": []
  },
  {
   "cell_type": "markdown",
   "id": "c2cf2ba4",
   "metadata": {},
   "source": [
    "## Feature Importance\n",
    "\n",
    "Below is a glance at which features most contributed to the outcomes of the model.\n"
   ]
  },
  {
   "cell_type": "code",
   "execution_count": 30,
   "id": "0843dae5",
   "metadata": {},
   "outputs": [],
   "source": [
    "# gs_log_reg.best_params_"
   ]
  },
  {
   "cell_type": "code",
   "execution_count": 31,
   "id": "a8c7cd8a",
   "metadata": {},
   "outputs": [],
   "source": [
    "clf = LogisticRegression(C=417.53189365604004,\n",
    "                        solver=\"liblinear\")\n",
    "clf.fit(X_train, y_train);"
   ]
  },
  {
   "cell_type": "code",
   "execution_count": 32,
   "id": "74fa3839",
   "metadata": {},
   "outputs": [],
   "source": [
    "# Check coef\n",
    "# clf.coef_"
   ]
  },
  {
   "cell_type": "code",
   "execution_count": 33,
   "id": "10113735",
   "metadata": {},
   "outputs": [],
   "source": [
    "# Match coef's of features to columns\n",
    "feature_dict = dict(zip(df.columns, list(clf.coef_[0])))"
   ]
  },
  {
   "cell_type": "code",
   "execution_count": 34,
   "id": "9c8fd76a",
   "metadata": {
    "scrolled": true
   },
   "outputs": [
    {
     "data": {
      "image/png": "[encoded data removed]",
      "text/plain": [
       "<Figure size 432x288 with 1 Axes>"
      ]
     },
     "metadata": {},
     "output_type": "display_data"
    }
   ],
   "source": [
    "# Visualize feature importance\n",
    "feature_df = pd.DataFrame(feature_dict, index=[0])\n",
    "feature_df.T.plot.bar(title=\"Feature Importance\", color=\"lightblue\", legend=False);"
   ]
  },
  {
   "cell_type": "markdown",
   "id": "8024cb4b",
   "metadata": {},
   "source": [
    "## Feature Contribution\n",
    "Below is a closer look at the correlation of lung cancer risk associated with a documented persistent cough."
   ]
  },
  {
   "cell_type": "code",
   "execution_count": 35,
   "id": "2900663d",
   "metadata": {},
   "outputs": [
    {
     "data": {
      "image/png": "[encoded data removed]",
      "text/plain": [
       "<Figure size 720x432 with 1 Axes>"
      ]
     },
     "metadata": {},
     "output_type": "display_data"
    }
   ],
   "source": [
    "# Create a plot of crosstab \n",
    "pd.crosstab(df.target, df.COUGHING).plot(kind=\"bar\",\n",
    "                                       figsize=(10, 6),\n",
    "                                       color=[\"lightgrey\", \"lightblue\"])\n",
    "plt.title(\"Lung Cancer Risk for Patients with a Persistent Cough \")\n",
    "plt.xlabel(\"0 = Low Risk, 1 = High Risk\")\n",
    "plt.ylabel(\"Amount\")\n",
    "plt.legend([\"No Cough\", \"Cough\"]);\n",
    "plt.xticks(rotation=0);"
   ]
  },
  {
   "cell_type": "markdown",
   "id": "88a4766c",
   "metadata": {},
   "source": [
    "### Distribution of Participant Age"
   ]
  },
  {
   "cell_type": "code",
   "execution_count": 36,
   "id": "dd22250e",
   "metadata": {},
   "outputs": [
    {
     "data": {
      "image/png": "[encoded data removed]",
      "text/plain": [
       "<Figure size 432x288 with 1 Axes>"
      ]
     },
     "metadata": {},
     "output_type": "display_data"
    }
   ],
   "source": [
    "df.AGE.plot.hist(bins=15, color = \"lightblue\");"
   ]
  },
  {
   "cell_type": "code",
   "execution_count": 37,
   "id": "6cff998a",
   "metadata": {},
   "outputs": [],
   "source": [
    "# Save cross-validated model to file\n",
    "pickle.dump(clf, open(\"logistic_regression_model.pkl\", \"wb\"))"
   ]
  }
 ],
 "metadata": {
  "kernelspec": {
   "display_name": "Python 3 (ipykernel)",
   "language": "python",
   "name": "python3"
  },
  "language_info": {
   "codemirror_mode": {
    "name": "ipython",
    "version": 3
   },
   "file_extension": ".py",
   "mimetype": "text/x-python",
   "name": "python",
   "nbconvert_exporter": "python",
   "pygments_lexer": "ipython3",
   "version": "3.9.5"
  }
 },
 "nbformat": 4,
 "nbformat_minor": 5
}
